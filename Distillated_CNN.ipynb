{
  "nbformat": 4,
  "nbformat_minor": 0,
  "metadata": {
    "colab": {
      "provenance": [],
      "authorship_tag": "ABX9TyMHRW/U52Re5V//bI/y5K7j",
      "include_colab_link": true
    },
    "kernelspec": {
      "name": "python3",
      "display_name": "Python 3"
    },
    "language_info": {
      "name": "python"
    }
  },
  "cells": [
    {
      "cell_type": "markdown",
      "metadata": {
        "id": "view-in-github",
        "colab_type": "text"
      },
      "source": [
        "<a href=\"https://colab.research.google.com/github/Kashara-Alvin-Ssali/Knowledge-Distillation/blob/main/Distillated_CNN.ipynb\" target=\"_parent\"><img src=\"https://colab.research.google.com/assets/colab-badge.svg\" alt=\"Open In Colab\"/></a>"
      ]
    },
    {
      "cell_type": "code",
      "source": [
        "!pip install torch torchvision torchaudio torch-geometric networkx scipy numpy opencv-python matplotlib scikit-learn\n"
      ],
      "metadata": {
        "colab": {
          "base_uri": "https://localhost:8080/"
        },
        "id": "2l3U27RttoPX",
        "outputId": "fdd09aaf-19e6-4b00-95ac-7e50da593292"
      },
      "execution_count": 156,
      "outputs": [
        {
          "output_type": "stream",
          "name": "stdout",
          "text": [
            "Requirement already satisfied: torch in /usr/local/lib/python3.11/dist-packages (2.6.0+cu124)\n",
            "Requirement already satisfied: torchvision in /usr/local/lib/python3.11/dist-packages (0.21.0+cu124)\n",
            "Requirement already satisfied: torchaudio in /usr/local/lib/python3.11/dist-packages (2.6.0+cu124)\n",
            "Requirement already satisfied: torch-geometric in /usr/local/lib/python3.11/dist-packages (2.6.1)\n",
            "Requirement already satisfied: networkx in /usr/local/lib/python3.11/dist-packages (3.4.2)\n",
            "Requirement already satisfied: scipy in /usr/local/lib/python3.11/dist-packages (1.14.1)\n",
            "Requirement already satisfied: numpy in /usr/local/lib/python3.11/dist-packages (2.0.2)\n",
            "Requirement already satisfied: opencv-python in /usr/local/lib/python3.11/dist-packages (4.11.0.86)\n",
            "Requirement already satisfied: matplotlib in /usr/local/lib/python3.11/dist-packages (3.10.0)\n",
            "Requirement already satisfied: scikit-learn in /usr/local/lib/python3.11/dist-packages (1.6.1)\n",
            "Requirement already satisfied: filelock in /usr/local/lib/python3.11/dist-packages (from torch) (3.17.0)\n",
            "Requirement already satisfied: typing-extensions>=4.10.0 in /usr/local/lib/python3.11/dist-packages (from torch) (4.12.2)\n",
            "Requirement already satisfied: jinja2 in /usr/local/lib/python3.11/dist-packages (from torch) (3.1.6)\n",
            "Requirement already satisfied: fsspec in /usr/local/lib/python3.11/dist-packages (from torch) (2024.10.0)\n",
            "Requirement already satisfied: nvidia-cuda-nvrtc-cu12==12.4.127 in /usr/local/lib/python3.11/dist-packages (from torch) (12.4.127)\n",
            "Requirement already satisfied: nvidia-cuda-runtime-cu12==12.4.127 in /usr/local/lib/python3.11/dist-packages (from torch) (12.4.127)\n",
            "Requirement already satisfied: nvidia-cuda-cupti-cu12==12.4.127 in /usr/local/lib/python3.11/dist-packages (from torch) (12.4.127)\n",
            "Requirement already satisfied: nvidia-cudnn-cu12==9.1.0.70 in /usr/local/lib/python3.11/dist-packages (from torch) (9.1.0.70)\n",
            "Requirement already satisfied: nvidia-cublas-cu12==12.4.5.8 in /usr/local/lib/python3.11/dist-packages (from torch) (12.4.5.8)\n",
            "Requirement already satisfied: nvidia-cufft-cu12==11.2.1.3 in /usr/local/lib/python3.11/dist-packages (from torch) (11.2.1.3)\n",
            "Requirement already satisfied: nvidia-curand-cu12==10.3.5.147 in /usr/local/lib/python3.11/dist-packages (from torch) (10.3.5.147)\n",
            "Requirement already satisfied: nvidia-cusolver-cu12==11.6.1.9 in /usr/local/lib/python3.11/dist-packages (from torch) (11.6.1.9)\n",
            "Requirement already satisfied: nvidia-cusparse-cu12==12.3.1.170 in /usr/local/lib/python3.11/dist-packages (from torch) (12.3.1.170)\n",
            "Requirement already satisfied: nvidia-cusparselt-cu12==0.6.2 in /usr/local/lib/python3.11/dist-packages (from torch) (0.6.2)\n",
            "Requirement already satisfied: nvidia-nccl-cu12==2.21.5 in /usr/local/lib/python3.11/dist-packages (from torch) (2.21.5)\n",
            "Requirement already satisfied: nvidia-nvtx-cu12==12.4.127 in /usr/local/lib/python3.11/dist-packages (from torch) (12.4.127)\n",
            "Requirement already satisfied: nvidia-nvjitlink-cu12==12.4.127 in /usr/local/lib/python3.11/dist-packages (from torch) (12.4.127)\n",
            "Requirement already satisfied: triton==3.2.0 in /usr/local/lib/python3.11/dist-packages (from torch) (3.2.0)\n",
            "Requirement already satisfied: sympy==1.13.1 in /usr/local/lib/python3.11/dist-packages (from torch) (1.13.1)\n",
            "Requirement already satisfied: mpmath<1.4,>=1.1.0 in /usr/local/lib/python3.11/dist-packages (from sympy==1.13.1->torch) (1.3.0)\n",
            "Requirement already satisfied: pillow!=8.3.*,>=5.3.0 in /usr/local/lib/python3.11/dist-packages (from torchvision) (11.1.0)\n",
            "Requirement already satisfied: aiohttp in /usr/local/lib/python3.11/dist-packages (from torch-geometric) (3.11.13)\n",
            "Requirement already satisfied: psutil>=5.8.0 in /usr/local/lib/python3.11/dist-packages (from torch-geometric) (5.9.5)\n",
            "Requirement already satisfied: pyparsing in /usr/local/lib/python3.11/dist-packages (from torch-geometric) (3.2.1)\n",
            "Requirement already satisfied: requests in /usr/local/lib/python3.11/dist-packages (from torch-geometric) (2.32.3)\n",
            "Requirement already satisfied: tqdm in /usr/local/lib/python3.11/dist-packages (from torch-geometric) (4.67.1)\n",
            "Requirement already satisfied: contourpy>=1.0.1 in /usr/local/lib/python3.11/dist-packages (from matplotlib) (1.3.1)\n",
            "Requirement already satisfied: cycler>=0.10 in /usr/local/lib/python3.11/dist-packages (from matplotlib) (0.12.1)\n",
            "Requirement already satisfied: fonttools>=4.22.0 in /usr/local/lib/python3.11/dist-packages (from matplotlib) (4.56.0)\n",
            "Requirement already satisfied: kiwisolver>=1.3.1 in /usr/local/lib/python3.11/dist-packages (from matplotlib) (1.4.8)\n",
            "Requirement already satisfied: packaging>=20.0 in /usr/local/lib/python3.11/dist-packages (from matplotlib) (24.2)\n",
            "Requirement already satisfied: python-dateutil>=2.7 in /usr/local/lib/python3.11/dist-packages (from matplotlib) (2.8.2)\n",
            "Requirement already satisfied: joblib>=1.2.0 in /usr/local/lib/python3.11/dist-packages (from scikit-learn) (1.4.2)\n",
            "Requirement already satisfied: threadpoolctl>=3.1.0 in /usr/local/lib/python3.11/dist-packages (from scikit-learn) (3.6.0)\n",
            "Requirement already satisfied: six>=1.5 in /usr/local/lib/python3.11/dist-packages (from python-dateutil>=2.7->matplotlib) (1.17.0)\n",
            "Requirement already satisfied: aiohappyeyeballs>=2.3.0 in /usr/local/lib/python3.11/dist-packages (from aiohttp->torch-geometric) (2.6.1)\n",
            "Requirement already satisfied: aiosignal>=1.1.2 in /usr/local/lib/python3.11/dist-packages (from aiohttp->torch-geometric) (1.3.2)\n",
            "Requirement already satisfied: attrs>=17.3.0 in /usr/local/lib/python3.11/dist-packages (from aiohttp->torch-geometric) (25.3.0)\n",
            "Requirement already satisfied: frozenlist>=1.1.1 in /usr/local/lib/python3.11/dist-packages (from aiohttp->torch-geometric) (1.5.0)\n",
            "Requirement already satisfied: multidict<7.0,>=4.5 in /usr/local/lib/python3.11/dist-packages (from aiohttp->torch-geometric) (6.1.0)\n",
            "Requirement already satisfied: propcache>=0.2.0 in /usr/local/lib/python3.11/dist-packages (from aiohttp->torch-geometric) (0.3.0)\n",
            "Requirement already satisfied: yarl<2.0,>=1.17.0 in /usr/local/lib/python3.11/dist-packages (from aiohttp->torch-geometric) (1.18.3)\n",
            "Requirement already satisfied: MarkupSafe>=2.0 in /usr/local/lib/python3.11/dist-packages (from jinja2->torch) (3.0.2)\n",
            "Requirement already satisfied: charset-normalizer<4,>=2 in /usr/local/lib/python3.11/dist-packages (from requests->torch-geometric) (3.4.1)\n",
            "Requirement already satisfied: idna<4,>=2.5 in /usr/local/lib/python3.11/dist-packages (from requests->torch-geometric) (3.10)\n",
            "Requirement already satisfied: urllib3<3,>=1.21.1 in /usr/local/lib/python3.11/dist-packages (from requests->torch-geometric) (2.3.0)\n",
            "Requirement already satisfied: certifi>=2017.4.17 in /usr/local/lib/python3.11/dist-packages (from requests->torch-geometric) (2025.1.31)\n"
          ]
        }
      ]
    },
    {
      "cell_type": "code",
      "source": [
        "# Mount Google Drive\n",
        "from google.colab import drive\n",
        "drive.mount('/content/drive')"
      ],
      "metadata": {
        "colab": {
          "base_uri": "https://localhost:8080/"
        },
        "id": "jUz3HKYZtrCE",
        "outputId": "0dca8589-7067-493e-81bb-356d9483c3c0"
      },
      "execution_count": 157,
      "outputs": [
        {
          "output_type": "stream",
          "name": "stdout",
          "text": [
            "Drive already mounted at /content/drive; to attempt to forcibly remount, call drive.mount(\"/content/drive\", force_remount=True).\n"
          ]
        }
      ]
    },
    {
      "cell_type": "code",
      "execution_count": 158,
      "metadata": {
        "id": "jceEVhu_sRMC"
      },
      "outputs": [],
      "source": [
        "import os\n",
        "import cv2\n",
        "import numpy as np\n",
        "import torch\n",
        "import torch.nn as nn\n",
        "import torch.nn.functional as F\n",
        "import torch.optim as optim\n",
        "import torchvision.transforms as transforms\n",
        "from torch.utils.data import DataLoader, Dataset\n",
        "from sklearn.metrics import accuracy_score, precision_score, f1_score\n",
        "from google.colab import drive\n"
      ]
    },
    {
      "cell_type": "code",
      "source": [
        "# CNN Student Model\n",
        "class CNNClassifier(nn.Module):\n",
        "    def __init__(self):\n",
        "        super(CNNClassifier, self).__init__()\n",
        "        self.conv1 = nn.Conv2d(1, 32, kernel_size=3, stride=1, padding=1)\n",
        "        self.conv2 = nn.Conv2d(32, 64, kernel_size=3, stride=1, padding=1)\n",
        "        self.fc1 = nn.Linear(64 * 8 * 8, 128)\n",
        "        self.fc2 = nn.Linear(128, 2)\n",
        "\n",
        "    def forward(self, x):\n",
        "        x = F.relu(self.conv1(x))\n",
        "        x = F.max_pool2d(x, 2, 2)\n",
        "        x = F.relu(self.conv2(x))\n",
        "        x = F.max_pool2d(x, 2, 2)\n",
        "        x = torch.flatten(x, 1)\n",
        "        x = F.relu(self.fc1(x))\n",
        "        x = self.fc2(x)\n",
        "        return x\n"
      ],
      "metadata": {
        "id": "DFo0-QU-sXyj"
      },
      "execution_count": 159,
      "outputs": []
    },
    {
      "cell_type": "code",
      "source": [
        "# Custom Dataset with teacher logits\n",
        "class DistillationImageDataset(Dataset):\n",
        "    def __init__(self, image_folder, logits_dict, transform=None):\n",
        "        self.image_paths = []\n",
        "        self.labels = []\n",
        "        self.teacher_logits = []\n",
        "        self.transform = transform\n",
        "\n",
        "        for label, folder in enumerate(['Real', 'Fake']):\n",
        "            folder_path = os.path.join(image_folder, folder)\n",
        "            for img_name in os.listdir(folder_path):\n",
        "                img_path = os.path.join(folder_path, img_name)\n",
        "                if img_path in logits_dict:\n",
        "                    self.image_paths.append(img_path)\n",
        "                    self.labels.append(label)\n",
        "                    self.teacher_logits.append(logits_dict[img_path])\n",
        "\n",
        "    def __len__(self):\n",
        "        return len(self.image_paths)\n",
        "\n",
        "    def __getitem__(self, idx):\n",
        "        image = cv2.imread(self.image_paths[idx], cv2.IMREAD_GRAYSCALE)\n",
        "        image = cv2.resize(image, (32, 32))\n",
        "        if self.transform:\n",
        "            image = self.transform(image)\n",
        "        else:\n",
        "            image = torch.tensor(image, dtype=torch.float32).unsqueeze(0) / 255.0\n",
        "\n",
        "        label = self.labels[idx]\n",
        "        teacher_logit = self.teacher_logits[idx]\n",
        "\n",
        "        return image, label, teacher_logit\n"
      ],
      "metadata": {
        "id": "F2wPwP0isaGq"
      },
      "execution_count": 160,
      "outputs": []
    },
    {
      "cell_type": "code",
      "source": [
        "# Load teacher logits\n",
        "teacher_logits = torch.load('/content/drive/MyDrive/teacher_logits.pt')\n",
        "\n",
        "# DataLoader setup\n",
        "transform = transforms.Compose([\n",
        "    transforms.ToTensor()\n",
        "])\n",
        "train_dataset = DistillationImageDataset('/content/drive/MyDrive/Dataset4/Training', teacher_logits, transform=transform)\n",
        "train_loader = DataLoader(train_dataset, batch_size=16, shuffle=True)\n"
      ],
      "metadata": {
        "id": "btaIf3zRvNYI"
      },
      "execution_count": 161,
      "outputs": []
    },
    {
      "cell_type": "code",
      "source": [
        "# Training loop with distillation\n",
        "def train_distilled_student(student, train_loader, optimizer, alpha=0.5, temperature=3.0, epochs=100):\n",
        "    criterion_hard = nn.CrossEntropyLoss()\n",
        "    criterion_soft = nn.KLDivLoss(reduction='batchmean')\n",
        "    student.train()\n",
        "\n",
        "    for epoch in range(epochs):\n",
        "        running_loss = 0\n",
        "        for images, labels, teacher_logits in train_loader:\n",
        "            images, labels, teacher_logits = images.to(device), labels.to(device), teacher_logits.to(device)\n",
        "\n",
        "            optimizer.zero_grad()\n",
        "\n",
        "            student_outputs = student(images)\n",
        "\n",
        "            soft_loss = criterion_soft(\n",
        "                F.log_softmax(student_outputs / temperature, dim=1),\n",
        "                F.softmax(teacher_logits / temperature, dim=1)\n",
        "            ) * (temperature ** 2)\n",
        "\n",
        "            hard_loss = criterion_hard(student_outputs, labels)\n",
        "\n",
        "            loss = alpha * soft_loss + (1 - alpha) * hard_loss\n",
        "\n",
        "            loss.backward()\n",
        "            optimizer.step()\n",
        "\n",
        "            running_loss += loss.item()\n",
        "\n",
        "        print(f\"Epoch {epoch+1}/{epochs}, Loss: {running_loss:.4f}\")\n"
      ],
      "metadata": {
        "id": "8ssRjgx-scyi"
      },
      "execution_count": 162,
      "outputs": []
    },
    {
      "cell_type": "code",
      "source": [
        "# Instantiate student model and optimizer\n",
        "student = CNNClassifier().to(device)\n",
        "optimizer = optim.Adam(student.parameters(), lr=1e-4)\n"
      ],
      "metadata": {
        "id": "FPNzKvGF_BUp"
      },
      "execution_count": 163,
      "outputs": []
    },
    {
      "cell_type": "code",
      "source": [
        "# Train the student\n",
        "train_distilled_student(student, train_loader, optimizer)\n"
      ],
      "metadata": {
        "colab": {
          "base_uri": "https://localhost:8080/"
        },
        "id": "bSBOuJZg_Dtl",
        "outputId": "10afb309-b7c3-4faf-98e3-969bf17d13f1"
      },
      "execution_count": 164,
      "outputs": [
        {
          "output_type": "stream",
          "name": "stdout",
          "text": [
            "Epoch 1/100, Loss: 2.7514\n",
            "Epoch 2/100, Loss: 2.6535\n",
            "Epoch 3/100, Loss: 2.6512\n",
            "Epoch 4/100, Loss: 2.6506\n",
            "Epoch 5/100, Loss: 2.6502\n",
            "Epoch 6/100, Loss: 2.6448\n",
            "Epoch 7/100, Loss: 2.6390\n",
            "Epoch 8/100, Loss: 2.6355\n",
            "Epoch 9/100, Loss: 2.6447\n",
            "Epoch 10/100, Loss: 2.6367\n",
            "Epoch 11/100, Loss: 2.6251\n",
            "Epoch 12/100, Loss: 2.6230\n",
            "Epoch 13/100, Loss: 2.6245\n",
            "Epoch 14/100, Loss: 2.6179\n",
            "Epoch 15/100, Loss: 2.6189\n",
            "Epoch 16/100, Loss: 2.6092\n",
            "Epoch 17/100, Loss: 2.6042\n",
            "Epoch 18/100, Loss: 2.6043\n",
            "Epoch 19/100, Loss: 2.5952\n",
            "Epoch 20/100, Loss: 2.5909\n",
            "Epoch 21/100, Loss: 2.5873\n",
            "Epoch 22/100, Loss: 2.5802\n",
            "Epoch 23/100, Loss: 2.5723\n",
            "Epoch 24/100, Loss: 2.5672\n",
            "Epoch 25/100, Loss: 2.5629\n",
            "Epoch 26/100, Loss: 2.5529\n",
            "Epoch 27/100, Loss: 2.5529\n",
            "Epoch 28/100, Loss: 2.5516\n",
            "Epoch 29/100, Loss: 2.5318\n",
            "Epoch 30/100, Loss: 2.5338\n",
            "Epoch 31/100, Loss: 2.5210\n",
            "Epoch 32/100, Loss: 2.5201\n",
            "Epoch 33/100, Loss: 2.5035\n",
            "Epoch 34/100, Loss: 2.4918\n",
            "Epoch 35/100, Loss: 2.4834\n",
            "Epoch 36/100, Loss: 2.4739\n",
            "Epoch 37/100, Loss: 2.4635\n",
            "Epoch 38/100, Loss: 2.4671\n",
            "Epoch 39/100, Loss: 2.4495\n",
            "Epoch 40/100, Loss: 2.4308\n",
            "Epoch 41/100, Loss: 2.4196\n",
            "Epoch 42/100, Loss: 2.4072\n",
            "Epoch 43/100, Loss: 2.4151\n",
            "Epoch 44/100, Loss: 2.3781\n",
            "Epoch 45/100, Loss: 2.3704\n",
            "Epoch 46/100, Loss: 2.3510\n",
            "Epoch 47/100, Loss: 2.3448\n",
            "Epoch 48/100, Loss: 2.3244\n",
            "Epoch 49/100, Loss: 2.3086\n",
            "Epoch 50/100, Loss: 2.2946\n",
            "Epoch 51/100, Loss: 2.2760\n",
            "Epoch 52/100, Loss: 2.2828\n",
            "Epoch 53/100, Loss: 2.2381\n",
            "Epoch 54/100, Loss: 2.2238\n",
            "Epoch 55/100, Loss: 2.2058\n",
            "Epoch 56/100, Loss: 2.1942\n",
            "Epoch 57/100, Loss: 2.1661\n",
            "Epoch 58/100, Loss: 2.1471\n",
            "Epoch 59/100, Loss: 2.1324\n",
            "Epoch 60/100, Loss: 2.1063\n",
            "Epoch 61/100, Loss: 2.0975\n",
            "Epoch 62/100, Loss: 2.0663\n",
            "Epoch 63/100, Loss: 2.0380\n",
            "Epoch 64/100, Loss: 2.0095\n",
            "Epoch 65/100, Loss: 2.0048\n",
            "Epoch 66/100, Loss: 1.9960\n",
            "Epoch 67/100, Loss: 1.9513\n",
            "Epoch 68/100, Loss: 1.9441\n",
            "Epoch 69/100, Loss: 1.9183\n",
            "Epoch 70/100, Loss: 1.8965\n",
            "Epoch 71/100, Loss: 1.8665\n",
            "Epoch 72/100, Loss: 1.8265\n",
            "Epoch 73/100, Loss: 1.7991\n",
            "Epoch 74/100, Loss: 1.7712\n",
            "Epoch 75/100, Loss: 1.7768\n",
            "Epoch 76/100, Loss: 1.7336\n",
            "Epoch 77/100, Loss: 1.7227\n",
            "Epoch 78/100, Loss: 1.7090\n",
            "Epoch 79/100, Loss: 1.6312\n",
            "Epoch 80/100, Loss: 1.6605\n",
            "Epoch 81/100, Loss: 1.6035\n",
            "Epoch 82/100, Loss: 1.5805\n",
            "Epoch 83/100, Loss: 1.5466\n",
            "Epoch 84/100, Loss: 1.5283\n",
            "Epoch 85/100, Loss: 1.5119\n",
            "Epoch 86/100, Loss: 1.5050\n",
            "Epoch 87/100, Loss: 1.4297\n",
            "Epoch 88/100, Loss: 1.4813\n",
            "Epoch 89/100, Loss: 1.3839\n",
            "Epoch 90/100, Loss: 1.4028\n",
            "Epoch 91/100, Loss: 1.3258\n",
            "Epoch 92/100, Loss: 1.3300\n",
            "Epoch 93/100, Loss: 1.2897\n",
            "Epoch 94/100, Loss: 1.2714\n",
            "Epoch 95/100, Loss: 1.2521\n",
            "Epoch 96/100, Loss: 1.2104\n",
            "Epoch 97/100, Loss: 1.2098\n",
            "Epoch 98/100, Loss: 1.1589\n",
            "Epoch 99/100, Loss: 1.1720\n",
            "Epoch 100/100, Loss: 1.1422\n"
          ]
        }
      ]
    },
    {
      "cell_type": "code",
      "source": [
        "# Save the trained student model\n",
        "torch.save(student.state_dict(), '/content/drive/MyDrive/distilled_cnn.pth')\n"
      ],
      "metadata": {
        "id": "dbEN2HBsBcmN"
      },
      "execution_count": 165,
      "outputs": []
    },
    {
      "cell_type": "code",
      "source": [
        "# Evaluation\n",
        "class TestImageDataset(Dataset):\n",
        "    def __init__(self, image_folder, transform=None):\n",
        "        self.image_paths = []\n",
        "        self.labels = []\n",
        "        self.transform = transform\n",
        "\n",
        "        for label, folder in enumerate(['Real', 'Fake']):\n",
        "            folder_path = os.path.join(image_folder, folder)\n",
        "            for img_name in os.listdir(folder_path):\n",
        "                img_path = os.path.join(folder_path, img_name)\n",
        "                self.image_paths.append(img_path)\n",
        "                self.labels.append(label)\n",
        "\n",
        "    def __len__(self):\n",
        "        return len(self.image_paths)\n",
        "\n",
        "    def __getitem__(self, idx):\n",
        "        image = cv2.imread(self.image_paths[idx], cv2.IMREAD_GRAYSCALE)\n",
        "        image = cv2.resize(image, (32, 32))\n",
        "        if self.transform:\n",
        "            image = self.transform(image)\n",
        "        else:\n",
        "            image = torch.tensor(image, dtype=torch.float32).unsqueeze(0) / 255.0\n",
        "\n",
        "        label = self.labels[idx]\n",
        "        return image, label\n"
      ],
      "metadata": {
        "id": "AvuIvsz_Bee0"
      },
      "execution_count": 166,
      "outputs": []
    },
    {
      "cell_type": "code",
      "source": [
        "# Test loader\n",
        "test_dataset = TestImageDataset('/content/drive/MyDrive/Dataset4/Training', transform=transform)\n",
        "test_loader = DataLoader(test_dataset, batch_size=16, shuffle=False)\n"
      ],
      "metadata": {
        "id": "vKWCB6VxBh2W"
      },
      "execution_count": 167,
      "outputs": []
    },
    {
      "cell_type": "code",
      "source": [
        "# Evaluation function\n",
        "def evaluate_student(model, test_loader):\n",
        "    all_preds = []\n",
        "    all_labels = []\n",
        "    with torch.no_grad():\n",
        "        for images, labels in test_loader:\n",
        "            images, labels = images.to(device), labels.to(device)\n",
        "            outputs = model(images)\n",
        "            preds = outputs.argmax(dim=1)\n",
        "            all_preds.extend(preds.cpu().numpy())\n",
        "            all_labels.extend(labels.cpu().numpy())\n",
        "\n",
        "    accuracy = accuracy_score(all_labels, all_preds)\n",
        "    precision = precision_score(all_labels, all_preds)\n",
        "    f1 = f1_score(all_labels, all_preds)\n",
        "\n",
        "    print(f\"Test Accuracy: {accuracy:.4f}\")\n",
        "    print(f\"Test Precision: {precision:.4f}\")\n",
        "    print(f\"Test F1 Score: {f1:.4f}\")\n",
        "# Evaluate the trained student model\n",
        "evaluate_student(student, test_loader)\n"
      ],
      "metadata": {
        "colab": {
          "base_uri": "https://localhost:8080/"
        },
        "id": "Ct6dJARWBj1h",
        "outputId": "1d92ceb5-8627-4b55-c69e-0be0b54835a9"
      },
      "execution_count": 168,
      "outputs": [
        {
          "output_type": "stream",
          "name": "stdout",
          "text": [
            "Test Accuracy: 0.9375\n",
            "Test Precision: 0.9118\n",
            "Test F1 Score: 0.9394\n"
          ]
        }
      ]
    },
    {
      "cell_type": "code",
      "source": [
        "import cv2\n",
        "import torch\n",
        "import torchvision.transforms as transforms\n",
        "\n",
        "# Load the trained student model\n",
        "student = CNNClassifier().to(device)  # Assuming 'device' is defined\n",
        "student.load_state_dict(torch.load('/content/drive/MyDrive/distilled_cnn.pth'))\n",
        "student.eval()\n",
        "\n",
        "# Load and preprocess the sample image\n",
        "image_path = '/content/drive/MyDrive/Dataset4/Training/Real/500_s7.jpg'  # Replace with actual path\n",
        "image = cv2.imread(image_path, cv2.IMREAD_GRAYSCALE)\n",
        "image = cv2.resize(image, (32, 32))\n",
        "transform = transforms.Compose([\n",
        "    transforms.ToTensor()\n",
        "])\n",
        "image = transform(image).unsqueeze(0).to(device)\n",
        "\n",
        "# Perform inference\n",
        "with torch.no_grad():\n",
        "    output = student(image)\n",
        "    predicted_class = output.argmax(dim=1).item()\n",
        "\n",
        "# Interpret the prediction\n",
        "if predicted_class == 0:\n",
        "    print(\"The model predicts the image is Real.\")\n",
        "else:\n",
        "    print(\"The model predicts the image is Fake.\")"
      ],
      "metadata": {
        "colab": {
          "base_uri": "https://localhost:8080/"
        },
        "id": "FBWqOQYAEeV9",
        "outputId": "be31f898-7d3a-4dc5-de4a-c2b4192477ad"
      },
      "execution_count": 169,
      "outputs": [
        {
          "output_type": "stream",
          "name": "stdout",
          "text": [
            "The model predicts the image is Real.\n"
          ]
        }
      ]
    }
  ]
}