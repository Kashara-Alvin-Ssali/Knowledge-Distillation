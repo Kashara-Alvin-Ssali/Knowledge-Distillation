{
  "nbformat": 4,
  "nbformat_minor": 0,
  "metadata": {
    "colab": {
      "provenance": [],
      "authorship_tag": "ABX9TyOgwgctOeSNIhC/9iqR8+H6",
      "include_colab_link": true
    },
    "kernelspec": {
      "name": "python3",
      "display_name": "Python 3"
    },
    "language_info": {
      "name": "python"
    }
  },
  "cells": [
    {
      "cell_type": "markdown",
      "metadata": {
        "id": "view-in-github",
        "colab_type": "text"
      },
      "source": [
        "<a href=\"https://colab.research.google.com/github/Kashara-Alvin-Ssali/Knowledge-Distillation/blob/main/GAT.ipynb\" target=\"_parent\"><img src=\"https://colab.research.google.com/assets/colab-badge.svg\" alt=\"Open In Colab\"/></a>"
      ]
    },
    {
      "cell_type": "code",
      "source": [
        "!pip install torch torchvision torchaudio torch-geometric networkx scipy numpy opencv-python matplotlib\n"
      ],
      "metadata": {
        "colab": {
          "base_uri": "https://localhost:8080/"
        },
        "id": "kP9b2jZctNGW",
        "outputId": "e170ac19-7211-4989-8798-5afdd202164a"
      },
      "execution_count": 44,
      "outputs": [
        {
          "output_type": "stream",
          "name": "stdout",
          "text": [
            "Requirement already satisfied: torch in /usr/local/lib/python3.11/dist-packages (2.6.0+cu124)\n",
            "Requirement already satisfied: torchvision in /usr/local/lib/python3.11/dist-packages (0.21.0+cu124)\n",
            "Requirement already satisfied: torchaudio in /usr/local/lib/python3.11/dist-packages (2.6.0+cu124)\n",
            "Requirement already satisfied: torch-geometric in /usr/local/lib/python3.11/dist-packages (2.6.1)\n",
            "Requirement already satisfied: networkx in /usr/local/lib/python3.11/dist-packages (3.4.2)\n",
            "Requirement already satisfied: scipy in /usr/local/lib/python3.11/dist-packages (1.14.1)\n",
            "Requirement already satisfied: numpy in /usr/local/lib/python3.11/dist-packages (2.0.2)\n",
            "Requirement already satisfied: opencv-python in /usr/local/lib/python3.11/dist-packages (4.11.0.86)\n",
            "Requirement already satisfied: matplotlib in /usr/local/lib/python3.11/dist-packages (3.10.0)\n",
            "Requirement already satisfied: filelock in /usr/local/lib/python3.11/dist-packages (from torch) (3.17.0)\n",
            "Requirement already satisfied: typing-extensions>=4.10.0 in /usr/local/lib/python3.11/dist-packages (from torch) (4.12.2)\n",
            "Requirement already satisfied: jinja2 in /usr/local/lib/python3.11/dist-packages (from torch) (3.1.6)\n",
            "Requirement already satisfied: fsspec in /usr/local/lib/python3.11/dist-packages (from torch) (2024.10.0)\n",
            "Requirement already satisfied: nvidia-cuda-nvrtc-cu12==12.4.127 in /usr/local/lib/python3.11/dist-packages (from torch) (12.4.127)\n",
            "Requirement already satisfied: nvidia-cuda-runtime-cu12==12.4.127 in /usr/local/lib/python3.11/dist-packages (from torch) (12.4.127)\n",
            "Requirement already satisfied: nvidia-cuda-cupti-cu12==12.4.127 in /usr/local/lib/python3.11/dist-packages (from torch) (12.4.127)\n",
            "Requirement already satisfied: nvidia-cudnn-cu12==9.1.0.70 in /usr/local/lib/python3.11/dist-packages (from torch) (9.1.0.70)\n",
            "Requirement already satisfied: nvidia-cublas-cu12==12.4.5.8 in /usr/local/lib/python3.11/dist-packages (from torch) (12.4.5.8)\n",
            "Requirement already satisfied: nvidia-cufft-cu12==11.2.1.3 in /usr/local/lib/python3.11/dist-packages (from torch) (11.2.1.3)\n",
            "Requirement already satisfied: nvidia-curand-cu12==10.3.5.147 in /usr/local/lib/python3.11/dist-packages (from torch) (10.3.5.147)\n",
            "Requirement already satisfied: nvidia-cusolver-cu12==11.6.1.9 in /usr/local/lib/python3.11/dist-packages (from torch) (11.6.1.9)\n",
            "Requirement already satisfied: nvidia-cusparse-cu12==12.3.1.170 in /usr/local/lib/python3.11/dist-packages (from torch) (12.3.1.170)\n",
            "Requirement already satisfied: nvidia-cusparselt-cu12==0.6.2 in /usr/local/lib/python3.11/dist-packages (from torch) (0.6.2)\n",
            "Requirement already satisfied: nvidia-nccl-cu12==2.21.5 in /usr/local/lib/python3.11/dist-packages (from torch) (2.21.5)\n",
            "Requirement already satisfied: nvidia-nvtx-cu12==12.4.127 in /usr/local/lib/python3.11/dist-packages (from torch) (12.4.127)\n",
            "Requirement already satisfied: nvidia-nvjitlink-cu12==12.4.127 in /usr/local/lib/python3.11/dist-packages (from torch) (12.4.127)\n",
            "Requirement already satisfied: triton==3.2.0 in /usr/local/lib/python3.11/dist-packages (from torch) (3.2.0)\n",
            "Requirement already satisfied: sympy==1.13.1 in /usr/local/lib/python3.11/dist-packages (from torch) (1.13.1)\n",
            "Requirement already satisfied: mpmath<1.4,>=1.1.0 in /usr/local/lib/python3.11/dist-packages (from sympy==1.13.1->torch) (1.3.0)\n",
            "Requirement already satisfied: pillow!=8.3.*,>=5.3.0 in /usr/local/lib/python3.11/dist-packages (from torchvision) (11.1.0)\n",
            "Requirement already satisfied: aiohttp in /usr/local/lib/python3.11/dist-packages (from torch-geometric) (3.11.13)\n",
            "Requirement already satisfied: psutil>=5.8.0 in /usr/local/lib/python3.11/dist-packages (from torch-geometric) (5.9.5)\n",
            "Requirement already satisfied: pyparsing in /usr/local/lib/python3.11/dist-packages (from torch-geometric) (3.2.1)\n",
            "Requirement already satisfied: requests in /usr/local/lib/python3.11/dist-packages (from torch-geometric) (2.32.3)\n",
            "Requirement already satisfied: tqdm in /usr/local/lib/python3.11/dist-packages (from torch-geometric) (4.67.1)\n",
            "Requirement already satisfied: contourpy>=1.0.1 in /usr/local/lib/python3.11/dist-packages (from matplotlib) (1.3.1)\n",
            "Requirement already satisfied: cycler>=0.10 in /usr/local/lib/python3.11/dist-packages (from matplotlib) (0.12.1)\n",
            "Requirement already satisfied: fonttools>=4.22.0 in /usr/local/lib/python3.11/dist-packages (from matplotlib) (4.56.0)\n",
            "Requirement already satisfied: kiwisolver>=1.3.1 in /usr/local/lib/python3.11/dist-packages (from matplotlib) (1.4.8)\n",
            "Requirement already satisfied: packaging>=20.0 in /usr/local/lib/python3.11/dist-packages (from matplotlib) (24.2)\n",
            "Requirement already satisfied: python-dateutil>=2.7 in /usr/local/lib/python3.11/dist-packages (from matplotlib) (2.8.2)\n",
            "Requirement already satisfied: six>=1.5 in /usr/local/lib/python3.11/dist-packages (from python-dateutil>=2.7->matplotlib) (1.17.0)\n",
            "Requirement already satisfied: aiohappyeyeballs>=2.3.0 in /usr/local/lib/python3.11/dist-packages (from aiohttp->torch-geometric) (2.6.1)\n",
            "Requirement already satisfied: aiosignal>=1.1.2 in /usr/local/lib/python3.11/dist-packages (from aiohttp->torch-geometric) (1.3.2)\n",
            "Requirement already satisfied: attrs>=17.3.0 in /usr/local/lib/python3.11/dist-packages (from aiohttp->torch-geometric) (25.3.0)\n",
            "Requirement already satisfied: frozenlist>=1.1.1 in /usr/local/lib/python3.11/dist-packages (from aiohttp->torch-geometric) (1.5.0)\n",
            "Requirement already satisfied: multidict<7.0,>=4.5 in /usr/local/lib/python3.11/dist-packages (from aiohttp->torch-geometric) (6.1.0)\n",
            "Requirement already satisfied: propcache>=0.2.0 in /usr/local/lib/python3.11/dist-packages (from aiohttp->torch-geometric) (0.3.0)\n",
            "Requirement already satisfied: yarl<2.0,>=1.17.0 in /usr/local/lib/python3.11/dist-packages (from aiohttp->torch-geometric) (1.18.3)\n",
            "Requirement already satisfied: MarkupSafe>=2.0 in /usr/local/lib/python3.11/dist-packages (from jinja2->torch) (3.0.2)\n",
            "Requirement already satisfied: charset-normalizer<4,>=2 in /usr/local/lib/python3.11/dist-packages (from requests->torch-geometric) (3.4.1)\n",
            "Requirement already satisfied: idna<4,>=2.5 in /usr/local/lib/python3.11/dist-packages (from requests->torch-geometric) (3.10)\n",
            "Requirement already satisfied: urllib3<3,>=1.21.1 in /usr/local/lib/python3.11/dist-packages (from requests->torch-geometric) (2.3.0)\n",
            "Requirement already satisfied: certifi>=2017.4.17 in /usr/local/lib/python3.11/dist-packages (from requests->torch-geometric) (2025.1.31)\n"
          ]
        }
      ]
    },
    {
      "cell_type": "code",
      "execution_count": 45,
      "metadata": {
        "colab": {
          "base_uri": "https://localhost:8080/"
        },
        "id": "bocuzyG9r0wH",
        "outputId": "f64552b0-1f54-41ff-b966-5941de61e314"
      },
      "outputs": [
        {
          "output_type": "stream",
          "name": "stdout",
          "text": [
            "Drive already mounted at /content/drive; to attempt to forcibly remount, call drive.mount(\"/content/drive\", force_remount=True).\n"
          ]
        }
      ],
      "source": [
        "# Mount Google Drive\n",
        "from google.colab import drive\n",
        "drive.mount('/content/drive')"
      ]
    },
    {
      "cell_type": "code",
      "source": [
        "import os\n",
        "import cv2\n",
        "import numpy as np\n",
        "import networkx as nx\n",
        "from scipy.spatial import Delaunay\n",
        "import torch\n",
        "from torch_geometric.data import Data, Dataset, DataLoader\n",
        "from torch_geometric.nn import GATConv, global_mean_pool\n",
        "import torch.nn.functional as F\n",
        "import torch.optim as optim"
      ],
      "metadata": {
        "id": "qwnNjKvNr870"
      },
      "execution_count": 46,
      "outputs": []
    },
    {
      "cell_type": "code",
      "source": [
        "# Define dataset path in Google Drive\n",
        "dataset_path = \"/content/drive/MyDrive/Dataset4\""
      ],
      "metadata": {
        "id": "AdjNKsONr_M5"
      },
      "execution_count": 47,
      "outputs": []
    },
    {
      "cell_type": "code",
      "source": [
        "# Function to convert image to graph using ORB + Delaunay Triangulation\n",
        "def computeORBGraph(image):\n",
        "    \"\"\"\n",
        "    Extracts keypoints from an image using ORB and constructs a graph representation.\n",
        "    Nodes represent keypoints, and edges are formed using Delaunay Triangulation.\n",
        "    \"\"\"\n",
        "    orb = cv2.ORB_create(nfeatures=700, scaleFactor=1.2, nlevels=8, edgeThreshold=15)\n",
        "    keypoints, descriptors = orb.detectAndCompute(image, None)\n",
        "\n",
        "    if not keypoints or descriptors is None:\n",
        "        return None, None, None  # No keypoints detected\n",
        "\n",
        "    points = np.array([kp.pt for kp in keypoints], dtype=np.float32)\n",
        "    G = nx.Graph()\n",
        "\n",
        "    # Add nodes with descriptors\n",
        "    for i, (x, y) in enumerate(points):\n",
        "        G.add_node(i, pos=(x, y), descriptor=descriptors[i])\n",
        "\n",
        "    # Create edges using Delaunay Triangulation\n",
        "    if len(points) > 2:\n",
        "        tri = Delaunay(points)\n",
        "        for simplex in tri.simplices:\n",
        "            for i in range(3):\n",
        "                G.add_edge(simplex[i], simplex[(i+1) % 3])\n",
        "\n",
        "    return G, keypoints, descriptors\n"
      ],
      "metadata": {
        "id": "naAkm0wSsBdu"
      },
      "execution_count": 48,
      "outputs": []
    },
    {
      "cell_type": "code",
      "source": [
        "# Custom PyTorch Geometric Dataset for Currency Notes\n",
        "class CurrencyGraphDataset(Dataset):\n",
        "    def __init__(self, root, transform=None, pre_transform=None):\n",
        "        self.data_list = [] # Initialize data_list here, before calling super().__init__\n",
        "        super().__init__(root, transform, pre_transform)\n",
        "        self.process()\n",
        "\n",
        "    @property\n",
        "    def processed_file_names(self):\n",
        "        \"\"\"\n",
        "        Returns a list of filenames that represent the processed dataset.\n",
        "        This is required by the PyTorch Geometric Dataset class to check if the\n",
        "        data has already been processed.\n",
        "        \"\"\"\n",
        "        return ['data.pt']  # You can change this to a more descriptive name or a list of files if needed.\n",
        "\n",
        "    def process(self):\n",
        "        for label, folder in enumerate(['Real', 'Fake']):\n",
        "            folder_path = os.path.join(dataset_path, 'Training', folder)\n",
        "            for filename in os.listdir(folder_path):\n",
        "                img_path = os.path.join(folder_path, filename)\n",
        "                image = cv2.imread(img_path, cv2.IMREAD_GRAYSCALE)\n",
        "\n",
        "                G, keypoints, descriptors = computeORBGraph(image)\n",
        "                if G is None:\n",
        "                    continue\n",
        "\n",
        "                # Convert graph to PyTorch Geometric format\n",
        "                edge_index = torch.tensor(list(G.edges), dtype=torch.long).t().contiguous()\n",
        "                x = torch.tensor(np.array([G.nodes[i]['descriptor'] for i in G.nodes]), dtype=torch.float)\n",
        "                y = torch.tensor([label], dtype=torch.long)  # Graph-level label\n",
        "\n",
        "                data = Data(x=x, edge_index=edge_index, y=y)\n",
        "                self.data_list.append(data)\n",
        "\n",
        "    def len(self):\n",
        "        return len(self.data_list)\n",
        "\n",
        "    def get(self, idx):\n",
        "        return self.data_list[idx]"
      ],
      "metadata": {
        "id": "5663pgArsJmC"
      },
      "execution_count": 49,
      "outputs": []
    },
    {
      "cell_type": "code",
      "source": [
        "# Load dataset\n",
        "dataset = CurrencyGraphDataset(root=dataset_path)\n",
        "train_loader = DataLoader(dataset, batch_size=4, shuffle=True)\n",
        "\n",
        "print(f\"Loaded {len(dataset)} graphs.\")"
      ],
      "metadata": {
        "colab": {
          "base_uri": "https://localhost:8080/"
        },
        "id": "YrwgUEBNsKUG",
        "outputId": "bf4754a2-df24-4acc-9878-c2dd1d6dafb8"
      },
      "execution_count": 50,
      "outputs": [
        {
          "output_type": "stream",
          "name": "stderr",
          "text": [
            "Processing...\n",
            "Done!\n"
          ]
        },
        {
          "output_type": "stream",
          "name": "stdout",
          "text": [
            "Loaded 128 graphs.\n"
          ]
        },
        {
          "output_type": "stream",
          "name": "stderr",
          "text": [
            "/usr/local/lib/python3.11/dist-packages/torch_geometric/deprecation.py:26: UserWarning: 'data.DataLoader' is deprecated, use 'loader.DataLoader' instead\n",
            "  warnings.warn(out)\n"
          ]
        }
      ]
    },
    {
      "cell_type": "code",
      "source": [
        "from torch_geometric.nn import GATConv\n",
        "\n",
        "# Define the GAT model\n",
        "class GATClassifier(torch.nn.Module):\n",
        "    def __init__(self, input_dim, hidden_dim=64, output_dim=2, heads=2):\n",
        "        super(GATClassifier, self).__init__()\n",
        "        self.conv1 = GATConv(input_dim, hidden_dim, heads=heads)\n",
        "        self.conv2 = GATConv(hidden_dim * heads, hidden_dim, heads=1)\n",
        "        self.fc = torch.nn.Linear(hidden_dim, output_dim)\n",
        "\n",
        "    def forward(self, data):\n",
        "        x, edge_index = data.x, data.edge_index\n",
        "        x = F.relu(self.conv1(x, edge_index))\n",
        "        x = F.relu(self.conv2(x, edge_index))\n",
        "        x = global_mean_pool(x, data.batch)  # Graph-level pooling\n",
        "        x = self.fc(x)\n",
        "        return F.log_softmax(x, dim=1)\n",
        "\n",
        "# Get feature dimension from dataset\n",
        "input_dim = dataset[0].x.shape[1]\n",
        "\n",
        "# Initialize model\n",
        "device = torch.device(\"cuda\" if torch.cuda.is_available() else \"cpu\")\n",
        "model = GATClassifier(input_dim=input_dim).to(device)\n",
        "optimizer = torch.optim.Adam(model.parameters(), lr=1e-4)\n",
        "criterion = torch.nn.NLLLoss()\n"
      ],
      "metadata": {
        "id": "Ao96m37IsM34"
      },
      "execution_count": 51,
      "outputs": []
    },
    {
      "cell_type": "code",
      "source": [
        "import matplotlib.pyplot as plt\n",
        "\n",
        "def train_model(model, train_loader, optimizer, criterion, epochs=50):\n",
        "    model.train()\n",
        "    epoch_losses = []  # Store loss for each epoch\n",
        "\n",
        "\n",
        "    for epoch in range(epochs):\n",
        "        total_loss = 0\n",
        "        for data in train_loader:\n",
        "            data = data.to(device)\n",
        "            optimizer.zero_grad()\n",
        "            out = model(data)\n",
        "            loss = criterion(out, data.y)\n",
        "            loss.backward()\n",
        "            optimizer.step()\n",
        "            total_loss += loss.item()\n",
        "\n",
        "        epoch_losses.append(total_loss)\n",
        "\n",
        "\n",
        "        print(f\"Epoch {epoch+1}/{epochs}, Loss: {total_loss:.4f}\")\n",
        "\n",
        "    # Plotting\n",
        "    plt.figure(figsize=(12, 4))\n",
        "\n",
        "    # Plot Loss\n",
        "    plt.subplot(1, 2, 1)\n",
        "    plt.plot(epoch_losses, label='Training Loss')\n",
        "    plt.title('Training Loss over Epochs')\n",
        "    plt.xlabel('Epoch')\n",
        "    plt.ylabel('Loss')\n",
        "    plt.legend()\n",
        "\n",
        "\n",
        "# Call the modified train_model function\n",
        "train_model(model, train_loader, optimizer, criterion, epochs=50)"
      ],
      "metadata": {
        "colab": {
          "base_uri": "https://localhost:8080/",
          "height": 1000
        },
        "id": "53T4BjhTsP-4",
        "outputId": "da0783bf-1e9f-47f7-cccf-b4693b4631e7"
      },
      "execution_count": 52,
      "outputs": [
        {
          "output_type": "stream",
          "name": "stdout",
          "text": [
            "Epoch 1/50, Loss: 102.6444\n",
            "Epoch 2/50, Loss: 40.4866\n",
            "Epoch 3/50, Loss: 41.3983\n",
            "Epoch 4/50, Loss: 33.8622\n",
            "Epoch 5/50, Loss: 33.0971\n",
            "Epoch 6/50, Loss: 38.4504\n",
            "Epoch 7/50, Loss: 35.3178\n",
            "Epoch 8/50, Loss: 29.1559\n",
            "Epoch 9/50, Loss: 24.7340\n",
            "Epoch 10/50, Loss: 23.0316\n",
            "Epoch 11/50, Loss: 21.4644\n",
            "Epoch 12/50, Loss: 25.7328\n",
            "Epoch 13/50, Loss: 19.3428\n",
            "Epoch 14/50, Loss: 20.2049\n",
            "Epoch 15/50, Loss: 17.0137\n",
            "Epoch 16/50, Loss: 17.4923\n",
            "Epoch 17/50, Loss: 16.7305\n",
            "Epoch 18/50, Loss: 15.2665\n",
            "Epoch 19/50, Loss: 19.8465\n",
            "Epoch 20/50, Loss: 15.0814\n",
            "Epoch 21/50, Loss: 15.1261\n",
            "Epoch 22/50, Loss: 13.8191\n",
            "Epoch 23/50, Loss: 11.8595\n",
            "Epoch 24/50, Loss: 15.4260\n",
            "Epoch 25/50, Loss: 12.9090\n",
            "Epoch 26/50, Loss: 15.5658\n",
            "Epoch 27/50, Loss: 13.2690\n",
            "Epoch 28/50, Loss: 15.1946\n",
            "Epoch 29/50, Loss: 11.0182\n",
            "Epoch 30/50, Loss: 11.0398\n",
            "Epoch 31/50, Loss: 14.1112\n",
            "Epoch 32/50, Loss: 12.5734\n",
            "Epoch 33/50, Loss: 12.5661\n",
            "Epoch 34/50, Loss: 12.3084\n",
            "Epoch 35/50, Loss: 14.8332\n",
            "Epoch 36/50, Loss: 17.4537\n",
            "Epoch 37/50, Loss: 16.6663\n",
            "Epoch 38/50, Loss: 10.6438\n",
            "Epoch 39/50, Loss: 12.3466\n",
            "Epoch 40/50, Loss: 8.6435\n",
            "Epoch 41/50, Loss: 7.8598\n",
            "Epoch 42/50, Loss: 8.8453\n",
            "Epoch 43/50, Loss: 11.1339\n",
            "Epoch 44/50, Loss: 10.0454\n",
            "Epoch 45/50, Loss: 7.9476\n",
            "Epoch 46/50, Loss: 9.8464\n",
            "Epoch 47/50, Loss: 7.2603\n",
            "Epoch 48/50, Loss: 10.1526\n",
            "Epoch 49/50, Loss: 7.3289\n",
            "Epoch 50/50, Loss: 6.9575\n"
          ]
        },
        {
          "output_type": "display_data",
          "data": {
            "text/plain": [
              "<Figure size 1200x400 with 1 Axes>"
            ],
            "image/png": "[encoded data removed]"
          },
          "metadata": {}
        }
      ]
    },
    {
      "cell_type": "code",
      "source": [
        "# def evaluate(model, test_loader):\n",
        "#     model.eval()\n",
        "#     all_preds = []\n",
        "#     all_labels = []\n",
        "#     with torch.no_grad():\n",
        "#         for data in test_loader:\n",
        "#             data = data.to(device)\n",
        "#             out = model(data)\n",
        "#             pred = out.argmax(dim=1)\n",
        "#             all_preds.extend(pred.cpu().numpy())\n",
        "#             all_labels.extend(data.y.cpu().numpy())\n",
        "\n",
        "#     # ... (rest of your evaluation metrics calculation) ...\n",
        "\n",
        "#     # Generate and display confusion matrix\n",
        "#     cm = confusion_matrix(all_labels, all_preds)\n",
        "#     plt.figure(figsize=(6, 6))\n",
        "#     sns.heatmap(cm, annot=True, fmt=\"d\", cmap=\"Blues\", cbar=False,\n",
        "#                 xticklabels=['Real', 'Fake'], yticklabels=['Real', 'Fake'])\n",
        "#     plt.xlabel(\"Predicted Label\")\n",
        "#     plt.ylabel(\"True Label\")\n",
        "#     plt.title(\"Confusion Matrix\")\n",
        "#     plt.show()\n",
        "\n",
        "#     return accuracy\n",
        "# # Load test dataset\n",
        "# test_dataset_path = os.path.join(dataset_path, 'Testing') # Assuming your test data is in a 'Testing' subfolder\n",
        "# test_dataset = CurrencyGraphDataset(root=test_dataset_path)\n",
        "# test_loader = DataLoader(test_dataset, batch_size=4, shuffle=False)  # You might not want to shuffle test data\n",
        "\n",
        "# # ... (your existing evaluate function code) ...\n",
        "\n",
        "\n",
        "# # Evaluate the model and display the confusion matrix\n",
        "# accuracy = evaluate(model, test_loader)"
      ],
      "metadata": {
        "id": "ZHD0t3NO-gjW"
      },
      "execution_count": 53,
      "outputs": []
    },
    {
      "cell_type": "code",
      "source": [
        "from sklearn.metrics import accuracy_score, precision_score, f1_score\n",
        "\n",
        "def evaluate(model, test_loader):\n",
        "    model.eval()\n",
        "    all_preds = []\n",
        "    all_labels = []\n",
        "    with torch.no_grad():\n",
        "        for data in test_loader:\n",
        "            data = data.to(device)\n",
        "            out = model(data)\n",
        "            pred = out.argmax(dim=1)\n",
        "            all_preds.extend(pred.cpu().numpy())\n",
        "            all_labels.extend(data.y.cpu().numpy())\n",
        "\n",
        "    accuracy = accuracy_score(all_labels, all_preds)\n",
        "    precision = precision_score(all_labels, all_preds)\n",
        "    f1 = f1_score(all_labels, all_preds)\n",
        "\n",
        "    print(f\"Test Accuracy: {accuracy * 100:.2f}%\")\n",
        "    print(f\"Test Precision: {precision:.4f}\")\n",
        "    print(f\"Test F1-score: {f1:.4f}\")\n",
        "\n",
        "    return accuracy\n",
        "\n",
        "# ... (rest of your code) ...\n",
        "\n",
        "# Load test dataset\n",
        "test_dataset_path = os.path.join(dataset_path, 'Testing')\n",
        "test_dataset = CurrencyGraphDataset(root=test_dataset_path)\n",
        "test_loader = DataLoader(test_dataset, batch_size=4, shuffle=False)\n",
        "\n",
        "accuracy = evaluate(model, test_loader)"
      ],
      "metadata": {
        "colab": {
          "base_uri": "https://localhost:8080/"
        },
        "id": "nQSQL8PwsWtD",
        "outputId": "f4e6548f-1193-466e-dbdd-1848b0a2460d"
      },
      "execution_count": 54,
      "outputs": [
        {
          "output_type": "stream",
          "name": "stderr",
          "text": [
            "Processing...\n",
            "Done!\n"
          ]
        },
        {
          "output_type": "stream",
          "name": "stdout",
          "text": [
            "Test Accuracy: 93.75%\n",
            "Test Precision: 0.9118\n",
            "Test F1-score: 0.9394\n"
          ]
        }
      ]
    },
    {
      "cell_type": "code",
      "source": [
        "import os\n",
        "import cv2\n",
        "import torch\n",
        "from torch_geometric.data import Data\n",
        "\n",
        "# Load a sample image\n",
        "sample_image_path = '/content/drive/MyDrive/Dataset4/Training/Real/500_s1.jpg'  # Replace with the path to your sample image\n",
        "image = cv2.imread(sample_image_path, cv2.IMREAD_GRAYSCALE)\n",
        "\n",
        "# Preprocess the image and create the graph\n",
        "G, keypoints, descriptors = computeORBGraph(image)\n",
        "\n",
        "if G is None:\n",
        "    print(\"No keypoints detected in the sample image.\")\n",
        "else:\n",
        "    # Convert graph to PyTorch Geometric format\n",
        "    edge_index = torch.tensor(list(G.edges), dtype=torch.long).t().contiguous()\n",
        "    x = torch.tensor(np.array([G.nodes[i]['descriptor'] for i in G.nodes]), dtype=torch.float)\n",
        "    data = Data(x=x, edge_index=edge_index)\n",
        "\n",
        "    # Move data to the appropriate device (GPU if available)\n",
        "    data = data.to(device)\n",
        "\n",
        "    # Make prediction with the trained model\n",
        "    model.eval()\n",
        "    with torch.no_grad():\n",
        "        out = model(data)\n",
        "        pred = out.argmax(dim=1).item()\n",
        "\n",
        "    # Interpret the prediction\n",
        "    if pred == 0:\n",
        "        prediction_label = \"Real\"\n",
        "    else:\n",
        "        prediction_label = \"Fake\"\n",
        "\n",
        "    print(f\"Prediction for sample image: {prediction_label}\")"
      ],
      "metadata": {
        "colab": {
          "base_uri": "https://localhost:8080/"
        },
        "id": "JwMKGc0cyekl",
        "outputId": "1a7400f8-0e5d-4f0d-bdcb-4628e83ca1f4"
      },
      "execution_count": 61,
      "outputs": [
        {
          "output_type": "stream",
          "name": "stdout",
          "text": [
            "Prediction for sample image: Real\n"
          ]
        }
      ]
    },
    {
      "cell_type": "markdown",
      "source": [],
      "metadata": {
        "id": "Ywue8wiR9k-J"
      }
    },
    {
      "cell_type": "code",
      "source": [
        "# Save the model's state_dict\n",
        "torch.save(model.state_dict(), '/content/drive/MyDrive/gat_model.pth')\n"
      ],
      "metadata": {
        "id": "NDMBixn09JdB"
      },
      "execution_count": 56,
      "outputs": []
    },
    {
      "cell_type": "code",
      "source": [
        "import os\n",
        "import torch\n",
        "import cv2\n",
        "import numpy as np\n",
        "# from torch_geometric.data import Data\n",
        "# from gat import computeORBGraph, GATClassifier  # Make sure to import from your GAT file\n",
        "\n",
        "# Set paths\n",
        "trained_model_path = '/content/drive/MyDrive/gat_model.pth'\n",
        "dataset_train_path = '/content/drive/MyDrive/Dataset4/Training'\n",
        "\n",
        "# Load trained GAT teacher\n",
        "input_dim = 32  # ORB descriptor size (double-check if yours is 32 or 64)\n",
        "device = torch.device(\"cuda\" if torch.cuda.is_available() else \"cpu\")\n",
        "teacher_model = GATClassifier(input_dim=input_dim).to(device)\n",
        "teacher_model.load_state_dict(torch.load(trained_model_path, map_location=device))\n",
        "teacher_model.eval()\n",
        "\n",
        "teacher_logits = {}\n",
        "\n",
        "# Iterate through all training images\n",
        "for label_folder in ['Real', 'Fake']:\n",
        "    folder_path = os.path.join(dataset_train_path, label_folder)\n",
        "    for img_name in os.listdir(folder_path):\n",
        "        img_path = os.path.join(folder_path, img_name)\n",
        "\n",
        "        image = cv2.imread(img_path, cv2.IMREAD_GRAYSCALE)\n",
        "        G, keypoints, descriptors = computeORBGraph(image)\n",
        "        if G is None:\n",
        "            continue\n",
        "\n",
        "        edge_index = torch.tensor(list(G.edges), dtype=torch.long).t().contiguous()\n",
        "        x = torch.tensor(np.array([G.nodes[i]['descriptor'] for i in G.nodes]), dtype=torch.float)\n",
        "\n",
        "        data = Data(x=x, edge_index=edge_index).to(device)\n",
        "\n",
        "        with torch.no_grad():\n",
        "            output = teacher_model(data)  # output shape: (1, 2)\n",
        "\n",
        "        logits = output.squeeze().cpu()  # shape: (2,)\n",
        "        teacher_logits[img_path] = logits\n",
        "\n",
        "# Save teacher logits to file\n",
        "torch.save(teacher_logits, '/content/drive/MyDrive/teacher_logits.pt')\n",
        "print(\"Teacher logits saved successfully!\")\n"
      ],
      "metadata": {
        "colab": {
          "base_uri": "https://localhost:8080/"
        },
        "id": "wSgCJXpIzMDJ",
        "outputId": "ef161bcd-581f-4b74-e994-97c5b0625076"
      },
      "execution_count": 63,
      "outputs": [
        {
          "output_type": "stream",
          "name": "stdout",
          "text": [
            "Teacher logits saved successfully!\n"
          ]
        }
      ]
    }
  ]
}