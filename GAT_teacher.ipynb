{
  "nbformat": 4,
  "nbformat_minor": 0,
  "metadata": {
    "colab": {
      "provenance": [],
      "authorship_tag": "ABX9TyO4LjYyasMLEjr5loadNloP",
      "include_colab_link": true
    },
    "kernelspec": {
      "name": "python3",
      "display_name": "Python 3"
    },
    "language_info": {
      "name": "python"
    }
  },
  "cells": [
    {
      "cell_type": "markdown",
      "metadata": {
        "id": "view-in-github",
        "colab_type": "text"
      },
      "source": [
        "<a href=\"https://colab.research.google.com/github/Kashara-Alvin-Ssali/Knowledge-Distillation/blob/main/GAT_teacher.ipynb\" target=\"_parent\"><img src=\"https://colab.research.google.com/assets/colab-badge.svg\" alt=\"Open In Colab\"/></a>"
      ]
    },
    {
      "cell_type": "code",
      "execution_count": null,
      "metadata": {
        "id": "0OAFjSAb63Qy"
      },
      "outputs": [],
      "source": [
        "import os\n",
        "import torch\n",
        "import cv2\n",
        "import numpy as np\n",
        "from torch_geometric.data import Data\n",
        "from gat import computeORBGraph, GATClassifier"
      ]
    },
    {
      "cell_type": "code",
      "source": [
        "# Set paths\n",
        "trained_model_path = '/content/drive/MyDrive/gat_model.pth'\n",
        "dataset_train_path = '/content/drive/MyDrive/Dataset4/Training'\n"
      ],
      "metadata": {
        "id": "CJii5dQN6-IS"
      },
      "execution_count": null,
      "outputs": []
    },
    {
      "cell_type": "code",
      "source": [
        "# Load trained GAT teacher\n",
        "input_dim = 32  # ORB descriptor size (double-check if yours is 32 or 64)\n",
        "device = torch.device(\"cuda\" if torch.cuda.is_available() else \"cpu\")\n",
        "teacher_model = GATClassifier(input_dim=input_dim).to(device)\n",
        "teacher_model.load_state_dict(torch.load(trained_model_path, map_location=device))\n",
        "teacher_model.eval()"
      ],
      "metadata": {
        "id": "jbfF8Lkj7CDW"
      },
      "execution_count": null,
      "outputs": []
    },
    {
      "cell_type": "code",
      "source": [
        "teacher_logits = {}"
      ],
      "metadata": {
        "id": "83aYStkt7IMT"
      },
      "execution_count": 1,
      "outputs": []
    },
    {
      "cell_type": "code",
      "source": [
        "# Iterate through all training images\n",
        "for label_folder in ['Real', 'Fake']:\n",
        "    folder_path = os.path.join(dataset_train_path, label_folder)\n",
        "    for img_name in os.listdir(folder_path):\n",
        "        img_path = os.path.join(folder_path, img_name)\n",
        "\n",
        "        image = cv2.imread(img_path, cv2.IMREAD_GRAYSCALE)\n",
        "        G, keypoints, descriptors = computeORBGraph(image)\n",
        "        if G is None:\n",
        "            continue\n",
        "\n",
        "        edge_index = torch.tensor(list(G.edges), dtype=torch.long).t().contiguous()\n",
        "        x = torch.tensor(np.array([G.nodes[i]['descriptor'] for i in G.nodes]), dtype=torch.float)\n",
        "\n",
        "        data = Data(x=x, edge_index=edge_index).to(device)\n",
        "\n",
        "        with torch.no_grad():\n",
        "            output = teacher_model(data)  # output shape: (1, 2)\n",
        "\n",
        "        logits = output.squeeze().cpu()  # shape: (2,)\n",
        "        teacher_logits[img_path] = logits\n"
      ],
      "metadata": {
        "id": "86Tqp6Iu7I8g"
      },
      "execution_count": null,
      "outputs": []
    },
    {
      "cell_type": "code",
      "source": [
        "# Save teacher logits to file\n",
        "torch.save(teacher_logits, '/content/drive/MyDrive/teacher_logits.pt')\n",
        "print(\"Teacher logits saved successfully!\")"
      ],
      "metadata": {
        "id": "FgnrK3J47McC"
      },
      "execution_count": null,
      "outputs": []
    }
  ]
}